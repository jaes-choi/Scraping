{
 "cells": [
  {
   "cell_type": "markdown",
   "metadata": {},
   "source": [
    "## Lab 5: '좋아요'를 포함하여 기본 정보들 수집하기 "
   ]
  },
  {
   "cell_type": "markdown",
   "metadata": {},
   "source": [
    "#### 뉴스 페이지 접속하기 - 문제 발생"
   ]
  },
  {
   "cell_type": "code",
   "execution_count": null,
   "metadata": {},
   "outputs": [],
   "source": [
    "import pandas as pd\n",
    "import requests\n",
    "from bs4 import BeautifulSoup"
   ]
  },
  {
   "cell_type": "code",
   "execution_count": null,
   "metadata": {},
   "outputs": [],
   "source": [
    "## 저장된 기사 link들 가져오기\n",
    "df_urls = pd.read_pickle('../working/df_urls.pkl')\n",
    "\n",
    "url = df_urls['url'][0]\n",
    "url"
   ]
  },
  {
   "cell_type": "code",
   "execution_count": null,
   "metadata": {},
   "outputs": [],
   "source": [
    "## 뉴스 기사 페이지를 BeautifulSoup으로 만들기\n",
    "\n",
    "response_news = \n",
    "soup_news = \n",
    "\n",
    "soup_news  # 접속 불가 메시지\n",
    "\n",
    "## 사람이 web browser를 사용하는 것과 똑같이 만들 수는 없나?"
   ]
  },
  {
   "cell_type": "code",
   "execution_count": null,
   "metadata": {},
   "outputs": [],
   "source": []
  },
  {
   "cell_type": "markdown",
   "metadata": {},
   "source": [
    "#### '좋아요' 정보 가져올 때 문제 해결하기 - selenium webdriver 이용하기"
   ]
  },
  {
   "cell_type": "code",
   "execution_count": null,
   "metadata": {},
   "outputs": [],
   "source": [
    "## selenium\n",
    "# 설치하기\n",
    "    # 관리자 권한 cmd 창에서\n",
    "    # pip install selenium\n",
    "# 참고 자료: https://selenium-python.readthedocs.io/\n",
    "\n",
    "## dataframe으로 만들어 저장하기\n",
    "\n",
    "# webdriver 활용하기\n",
    "    # 설치하기"
   ]
  },
  {
   "cell_type": "code",
   "execution_count": null,
   "metadata": {},
   "outputs": [],
   "source": [
    "from selenium import webdriver\n",
    "driver = webdriver.Chrome()\n",
    "driver.maximize_window()\n",
    "driver.get(url)"
   ]
  },
  {
   "cell_type": "code",
   "execution_count": null,
   "metadata": {},
   "outputs": [],
   "source": []
  },
  {
   "cell_type": "markdown",
   "metadata": {},
   "source": [
    "<div class=\"alert alert-info\">\n",
    "**참고:** _나중에 도움이 될 수도 있는 부분이에요^^_\n",
    "</div>"
   ]
  },
  {
   "cell_type": "code",
   "execution_count": null,
   "metadata": {},
   "outputs": [],
   "source": [
    "# 참고: 화면에 띄우지 않고 사용하기\n",
    "# options = webdriver.ChromeOptions()\n",
    "# options.add_argument('headless')\n",
    "# driver = webdriver.Chrome(options=options)"
   ]
  },
  {
   "cell_type": "code",
   "execution_count": null,
   "metadata": {},
   "outputs": [],
   "source": []
  },
  {
   "cell_type": "markdown",
   "metadata": {},
   "source": [
    "#### selenium IDE에서 생성한 코드 실행해 보기 - code 정리하기"
   ]
  },
  {
   "cell_type": "code",
   "execution_count": null,
   "metadata": {},
   "outputs": [],
   "source": [
    "\n",
    "\n",
    "\n",
    "\n",
    "\n",
    "\n",
    "\n",
    "\n",
    "\n",
    "\n",
    "\n",
    "\n",
    "\n",
    "\n",
    "\n",
    "\n",
    "\n"
   ]
  },
  {
   "cell_type": "code",
   "execution_count": null,
   "metadata": {},
   "outputs": [],
   "source": []
  },
  {
   "cell_type": "markdown",
   "metadata": {},
   "source": [
    "#### selenium IDE에서 생성한 코드 변형해 보기 - 좋아요 정보 추출"
   ]
  },
  {
   "cell_type": "code",
   "execution_count": null,
   "metadata": {},
   "outputs": [],
   "source": [
    "\"https://news.naver.com/main/read.nhn?mode=LSD&mid=sec&sid1=105&oid=366&aid=0000634376\"\n",
    "time.sleep(1)\n",
    "\n",
    "# find_element(By.CSS_SELECTOR) (= find_element_by_css_selector)\n",
    "# 복수개의 결과를 가져오는 method --> find_elements_by_css_selector\n",
    "\n",
    "'.u_likeit_list_count'\n"
   ]
  },
  {
   "cell_type": "code",
   "execution_count": null,
   "metadata": {},
   "outputs": [],
   "source": []
  },
  {
   "cell_type": "markdown",
   "metadata": {},
   "source": [
    "#### selenium IDE에서 생성한 코드 변형해 보기 - 제목, 신문사, 기사 정보 추출"
   ]
  },
  {
   "cell_type": "code",
   "execution_count": null,
   "metadata": {},
   "outputs": [],
   "source": [
    "## 현재의 driver에서 추가정보 추출하기\n",
    "\n",
    "# 제목 추출하기\n",
    "'#articleTitle'"
   ]
  },
  {
   "cell_type": "code",
   "execution_count": null,
   "metadata": {},
   "outputs": [],
   "source": [
    "# 신문사 정보 추출하기\n",
    "'div.press_logo > a > img'"
   ]
  },
  {
   "cell_type": "code",
   "execution_count": null,
   "metadata": {},
   "outputs": [],
   "source": [
    "# 기사 입력 시간 추출하기\n",
    "'div.article_info > div > span'"
   ]
  },
  {
   "cell_type": "code",
   "execution_count": null,
   "metadata": {},
   "outputs": [],
   "source": [
    "# 뉴스 메인으로 이동해 보기\n",
    "\"https://news.naver.com\""
   ]
  },
  {
   "cell_type": "code",
   "execution_count": null,
   "metadata": {},
   "outputs": [],
   "source": [
    "# webdriver 종료하기\n",
    "driver.close()\n",
    "driver.quit()"
   ]
  },
  {
   "cell_type": "code",
   "execution_count": null,
   "metadata": {},
   "outputs": [],
   "source": []
  },
  {
   "cell_type": "markdown",
   "metadata": {},
   "source": [
    "#### url link list에서 뉴스 페이지들의 필요 정보 추출해서 df로 만들기"
   ]
  },
  {
   "cell_type": "code",
   "execution_count": null,
   "metadata": {},
   "outputs": [],
   "source": [
    "likes = []\n",
    "code = '005930'\n",
    "driver = webdriver.Chrome()\n",
    "for idx, row in df_urls.iloc[:3].iterrows():\n",
    "    url, aid = row[['url','aid']]\n",
    "    print(url, aid)\n",
    "    # 페이지 불러오기\n",
    "    news_info = [aid, code]\n",
    "    driver.get(url)\n",
    "    time.sleep(2)\n",
    "    # 좋아요 정보 가져오기\n",
    "    '.u_likeit_list_count')\n",
    "        news_info.append(element.text)\n",
    "    ## 제목 추출하기\n",
    "    '#articleTitle'\n",
    "    news_info.append(title)\n",
    "    ## 신문사 정보 추출하기\n",
    "    'div.press_logo > a > img'\n",
    "    news_info.append(media)\n",
    "    ## 기사 입력 시간 추출하기\n",
    "    'div.article_info > div > span.t11'\n",
    "    news_info.append(p_time)\n",
    "    likes.append(news_info)\n",
    "# 데이터프레임으로 만들기\n",
    "['aid','code','like','warm','sad','angry','wand','title','media','time']"
   ]
  },
  {
   "cell_type": "code",
   "execution_count": null,
   "metadata": {},
   "outputs": [],
   "source": []
  },
  {
   "cell_type": "markdown",
   "metadata": {},
   "source": [
    "<div class=\"alert alert-info\">\n",
    "**참고:** _나중에 도움이 될 수도 있는 부분이에요^^_\n",
    "</div>"
   ]
  },
  {
   "cell_type": "markdown",
   "metadata": {},
   "source": [
    "#### 참고: '좋아요' 수집결과 DB에 저장하고 '긍정', '부정' 항목 합산하여 조회하기"
   ]
  },
  {
   "cell_type": "code",
   "execution_count": null,
   "metadata": {},
   "outputs": [],
   "source": [
    "## 저장하기\n",
    "\n",
    "# pickl로 저장\n",
    "news_likes"
   ]
  },
  {
   "cell_type": "code",
   "execution_count": null,
   "metadata": {},
   "outputs": [],
   "source": [
    "news_likes.to_pickle('../working/news_likes.pkl')"
   ]
  },
  {
   "cell_type": "code",
   "execution_count": null,
   "metadata": {},
   "outputs": [],
   "source": [
    "# DB에 저장하고 query 적용해 보기\n",
    "\n",
    "from sqlalchemy import create_engine\n",
    "engine = create_engine('sqlite:///../working/prices.db', echo=False)"
   ]
  },
  {
   "cell_type": "code",
   "execution_count": null,
   "metadata": {},
   "outputs": [],
   "source": [
    "news_likes.to_sql('news_likes')"
   ]
  },
  {
   "cell_type": "code",
   "execution_count": null,
   "metadata": {
    "scrolled": true
   },
   "outputs": [],
   "source": [
    "pd.read_sql_query('''select time, sum(like)+sum(warm) as good, sum(sad)+sum(angry) as bad\n",
    "                     from news_likes\n",
    "                     where code='005930'\n",
    "                     group by time''', engine) "
   ]
  },
  {
   "cell_type": "code",
   "execution_count": null,
   "metadata": {},
   "outputs": [],
   "source": []
  },
  {
   "cell_type": "markdown",
   "metadata": {},
   "source": [
    "<div class=\"alert alert-info\">\n",
    "**참고:** _나중에 도움이 될 수도 있는 부분이에요^^_\n",
    "</div>"
   ]
  },
  {
   "cell_type": "markdown",
   "metadata": {},
   "source": [
    "#### 참고: selenium의 find_element_by_xpath로 다른 항목들 찾기"
   ]
  },
  {
   "cell_type": "code",
   "execution_count": null,
   "metadata": {},
   "outputs": [],
   "source": [
    "## 제목\n",
    "\n",
    "'//*[@id=\"articleTitle\"]'"
   ]
  },
  {
   "cell_type": "code",
   "execution_count": null,
   "metadata": {},
   "outputs": [],
   "source": [
    "## 신문사 정보\n",
    "\n",
    "'//*[@id=\"main_content\"]/div[1]/div[1]/a/img'"
   ]
  },
  {
   "cell_type": "code",
   "execution_count": null,
   "metadata": {},
   "outputs": [],
   "source": [
    "## 작성 시간\n",
    "\n",
    "'//*[@id=\"main_content\"]/div[1]/div[3]/div/span[@class=\"t11\"]'"
   ]
  },
  {
   "cell_type": "code",
   "execution_count": null,
   "metadata": {},
   "outputs": [],
   "source": []
  },
  {
   "cell_type": "markdown",
   "metadata": {},
   "source": [
    "<div class=\"alert alert-info\">\n",
    "**참고:** _나중에 도움이 될 수도 있는 부분이에요^^_\n",
    "</div>"
   ]
  },
  {
   "cell_type": "markdown",
   "metadata": {},
   "source": [
    "#### 참고: selenium으로 가져온 페이지를 BeautifulSoup find로 찾는다면"
   ]
  },
  {
   "cell_type": "code",
   "execution_count": null,
   "metadata": {},
   "outputs": [],
   "source": [
    "## BeautifulSoup 적용하고 '좋아요' 정보 가져오기\n",
    "\n",
    "# driver.page_source --> html 내용\n",
    "soup_news = BeautifulSoup(driver.page_source, 'html.parser')"
   ]
  },
  {
   "cell_type": "code",
   "execution_count": null,
   "metadata": {},
   "outputs": [],
   "source": [
    "# element tag와 attribute를 이용해서 찾기\n",
    "soup_news.find('ul', role=\"menu\").find_all('span', class_='_count')"
   ]
  },
  {
   "cell_type": "code",
   "execution_count": null,
   "metadata": {},
   "outputs": [],
   "source": [
    "# 각각 항목 인쇄\n",
    "for span in soup_news.find('ul', role=\"menu\").find_all('span', class_='_count'):\n",
    "    print(span.text)"
   ]
  },
  {
   "cell_type": "code",
   "execution_count": null,
   "metadata": {},
   "outputs": [],
   "source": []
  }
 ],
 "metadata": {
  "kernelspec": {
   "display_name": "Python 3",
   "language": "python",
   "name": "python3"
  },
  "language_info": {
   "codemirror_mode": {
    "name": "ipython",
    "version": 3
   },
   "file_extension": ".py",
   "mimetype": "text/x-python",
   "name": "python",
   "nbconvert_exporter": "python",
   "pygments_lexer": "ipython3",
   "version": "3.9.5"
  }
 },
 "nbformat": 4,
 "nbformat_minor": 4
}
