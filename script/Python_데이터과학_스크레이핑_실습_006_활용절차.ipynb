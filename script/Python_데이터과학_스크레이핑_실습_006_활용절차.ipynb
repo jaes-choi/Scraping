{
 "cells": [
  {
   "cell_type": "markdown",
   "metadata": {},
   "source": [
    "## Lab 6: OpenAPI 활용 절차 및 기업 정보 가져오기"
   ]
  },
  {
   "cell_type": "markdown",
   "metadata": {},
   "source": [
    "#### 기업 정보 조회하기 - 샘플 코드 실행"
   ]
  },
  {
   "cell_type": "code",
   "execution_count": null,
   "metadata": {},
   "outputs": [],
   "source": [
    "## 샘플 코드 결과를 실행해서 결과 확인하기\n",
    "# requests로 샘플 코드 실행해 보기\n",
    "import requests, json\n",
    "key = ''\n",
    "url=f'https://opendart.fss.or.kr/api/company.json?crtfc_key={key}&corp_code=00126380'\n",
    "\n",
    "response = \n",
    "response"
   ]
  },
  {
   "cell_type": "code",
   "execution_count": null,
   "metadata": {},
   "outputs": [],
   "source": [
    "response.text"
   ]
  },
  {
   "cell_type": "code",
   "execution_count": null,
   "metadata": {
    "scrolled": true
   },
   "outputs": [],
   "source": [
    "response.json()\n",
    "# json.loads(response.text)"
   ]
  },
  {
   "cell_type": "code",
   "execution_count": null,
   "metadata": {},
   "outputs": [],
   "source": []
  },
  {
   "cell_type": "markdown",
   "metadata": {},
   "source": [
    "<div class=\"alert alert-info\">\n",
    "**참고:** _나중에 도움이 될 수도 있는 부분이에요^^_\n",
    "</div>"
   ]
  },
  {
   "cell_type": "code",
   "execution_count": null,
   "metadata": {},
   "outputs": [],
   "source": [
    "# parameter를 dict형식으로 변경하고 requests 실행\n",
    "parameters = {\n",
    "\n",
    "}\n",
    "url = 'https://opendart.fss.or.kr/api/company.json'\n",
    "\n",
    "response = requests.get()\n",
    "response"
   ]
  },
  {
   "cell_type": "code",
   "execution_count": null,
   "metadata": {},
   "outputs": [],
   "source": [
    "response.text"
   ]
  },
  {
   "cell_type": "code",
   "execution_count": null,
   "metadata": {},
   "outputs": [],
   "source": []
  },
  {
   "cell_type": "markdown",
   "metadata": {},
   "source": [
    "#### 기업 정보 조회하기 - key를 입력하고 함수 만들어 정보 가져오기"
   ]
  },
  {
   "cell_type": "code",
   "execution_count": null,
   "metadata": {
    "scrolled": true
   },
   "outputs": [],
   "source": [
    "## 함수로 만들어 쉽게 접근하기\n",
    "def get_corp_details(corp_code):\n",
    "    url=\n",
    "    response = \n",
    "#     return json.loads(response.text)\n",
    "    return response.json()\n",
    "\n",
    "# 결과 확인\n",
    "get_corp_details('00126380')"
   ]
  },
  {
   "cell_type": "code",
   "execution_count": null,
   "metadata": {},
   "outputs": [],
   "source": []
  },
  {
   "cell_type": "markdown",
   "metadata": {},
   "source": [
    "<div class=\"alert alert-info\">\n",
    "**참고:** _나중에 도움이 될 수도 있는 부분이에요^^_\n",
    "</div>"
   ]
  },
  {
   "cell_type": "code",
   "execution_count": null,
   "metadata": {},
   "outputs": [],
   "source": [
    "# dict형식의 parameter로 requests하는 함수 생성 방법\n",
    "def get_corp_details(corp_code):\n",
    "    parameters = {\n",
    "\n",
    "    \n",
    "    }\n",
    "    url = 'https://opendart.fss.or.kr/api/company.json'\n",
    "    response = requests.get()\n",
    "\n",
    "#     return json.loads(response.text)\n",
    "    return response.json()"
   ]
  },
  {
   "cell_type": "code",
   "execution_count": null,
   "metadata": {},
   "outputs": [],
   "source": []
  },
  {
   "cell_type": "markdown",
   "metadata": {},
   "source": [
    "#### 자신만의 함수 등록해서 사용하기 - file에 저장하고 import하여 함수 활용하기"
   ]
  },
  {
   "cell_type": "code",
   "execution_count": null,
   "metadata": {},
   "outputs": [],
   "source": [
    "## 저장된 함수 불러서 사용하기\n",
    "\n",
    "# 기존 함수 확인 --> 오류발생\n",
    "get_corp_details_2('00126380')"
   ]
  },
  {
   "cell_type": "code",
   "execution_count": null,
   "metadata": {},
   "outputs": [],
   "source": [
    "# 함수 불러오기\n",
    "from my_func import *\n",
    "\n",
    "# 결과 확인 --> 정상작동\n",
    "get_corp_details_2('00126380')"
   ]
  },
  {
   "cell_type": "code",
   "execution_count": null,
   "metadata": {},
   "outputs": [],
   "source": []
  }
 ],
 "metadata": {
  "kernelspec": {
   "display_name": "Python 3",
   "language": "python",
   "name": "python3"
  },
  "language_info": {
   "codemirror_mode": {
    "name": "ipython",
    "version": 3
   },
   "file_extension": ".py",
   "mimetype": "text/x-python",
   "name": "python",
   "nbconvert_exporter": "python",
   "pygments_lexer": "ipython3",
   "version": "3.9.5"
  }
 },
 "nbformat": 4,
 "nbformat_minor": 4
}
