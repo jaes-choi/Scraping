{
 "cells": [
  {
   "cell_type": "markdown",
   "metadata": {},
   "source": [
    "# Lab 6: OpenAPI 활용 절차 및 기업정보 가져오기"
   ]
  },
  {
   "cell_type": "markdown",
   "metadata": {},
   "source": [
    "## 기업 정보 조회하기"
   ]
  },
  {
   "cell_type": "code",
   "execution_count": null,
   "metadata": {},
   "outputs": [],
   "source": [
    "## 샘플 코드 결과를 실행해서 결과 확인하기\n",
    "# requests로 샘플 코드 실행해 보기\n",
    "import requests, json\n",
    "\n",
    "\n",
    "response = requests.get(url)\n",
    "response\n",
    "response.text\n",
    "# dict로 변환\n"
   ]
  },
  {
   "cell_type": "code",
   "execution_count": null,
   "metadata": {
    "scrolled": true
   },
   "outputs": [],
   "source": [
    "# parameter를 dict형식으로 변경하고 requests 실행\n",
    "parameters = {\n",
    "\n",
    "\n",
    "}\n",
    "url = \n",
    "\n",
    "response = requests.get(url, params=parameters)\n",
    "response\n",
    "response.text\n",
    "# dict로 변환\n"
   ]
  },
  {
   "cell_type": "code",
   "execution_count": null,
   "metadata": {
    "scrolled": true
   },
   "outputs": [],
   "source": [
    "# requests response의 json() method 활용\n"
   ]
  },
  {
   "cell_type": "markdown",
   "metadata": {},
   "source": [
    "### Lab 6: OpenAPI 활용 절차 및 기업 정보 가져오기"
   ]
  },
  {
   "cell_type": "code",
   "execution_count": null,
   "metadata": {},
   "outputs": [],
   "source": [
    "## 함수로 만들어 쉽게 접근하기\n",
    "def get_corp_details(corp_code):\n",
    "    \n",
    "    \n",
    "# 결과 확인\n",
    "get_corp_details('00126380')"
   ]
  },
  {
   "cell_type": "code",
   "execution_count": null,
   "metadata": {},
   "outputs": [],
   "source": [
    "# dict형식의 parameter로 requests하는 함수 생성 방법\n",
    "def get_corp_details(corp_code):\n",
    "    \n",
    "    \n",
    "    \n",
    "# 결과 확인\n",
    "get_corp_details('00126380')"
   ]
  },
  {
   "cell_type": "markdown",
   "metadata": {},
   "source": [
    "## 자신만의 함수 등록해서 사용하기"
   ]
  },
  {
   "cell_type": "code",
   "execution_count": null,
   "metadata": {
    "scrolled": true
   },
   "outputs": [],
   "source": [
    "## 저장된 함수 불러서 사용하기\n",
    "\n",
    "# 메모리의 모든 내용 reset --> kernel --> restart\n",
    "# 기존 함수 확인 --> 오류발생\n",
    "get_corp_details_2('00126380')"
   ]
  },
  {
   "cell_type": "code",
   "execution_count": null,
   "metadata": {
    "scrolled": true
   },
   "outputs": [],
   "source": [
    "# 함수 불러오기\n"
   ]
  },
  {
   "cell_type": "code",
   "execution_count": null,
   "metadata": {},
   "outputs": [],
   "source": [
    "# 결과 확인 --> 정상작동\n",
    "get_corp_details_2('00126380')"
   ]
  },
  {
   "cell_type": "code",
   "execution_count": null,
   "metadata": {},
   "outputs": [],
   "source": []
  }
 ],
 "metadata": {
  "kernelspec": {
   "display_name": "Python 3",
   "language": "python",
   "name": "python3"
  },
  "language_info": {
   "codemirror_mode": {
    "name": "ipython",
    "version": 3
   },
   "file_extension": ".py",
   "mimetype": "text/x-python",
   "name": "python",
   "nbconvert_exporter": "python",
   "pygments_lexer": "ipython3",
   "version": "3.8.5"
  }
 },
 "nbformat": 4,
 "nbformat_minor": 4
}
