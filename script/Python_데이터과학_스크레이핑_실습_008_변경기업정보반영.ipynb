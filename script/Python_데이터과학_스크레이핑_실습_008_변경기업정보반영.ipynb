{
 "cells": [
  {
   "cell_type": "markdown",
   "metadata": {},
   "source": [
    "## Lab 8: OpenAPI로 변경된 기업 정보를 반영하기"
   ]
  },
  {
   "cell_type": "markdown",
   "metadata": {},
   "source": [
    "<div class=\"alert alert-info\">\n",
    "**참고:** _나중에 도움이 될 수도 있는 부분이에요^^_\n",
    "</div>"
   ]
  },
  {
   "cell_type": "markdown",
   "metadata": {},
   "source": [
    "#### 변경된 기업 정보 가져오기 - 변경정보를 가져와 최근 변경 사항만 추출하기"
   ]
  },
  {
   "cell_type": "code",
   "execution_count": null,
   "metadata": {},
   "outputs": [],
   "source": [
    "## 기업 정보를 조회하고 dataframe으로 만들기\n",
    "\n",
    "# 기업 정보에 변경 사항이 있는 기업 추출\n",
    "import requests, json\n",
    "import pandas as pd\n",
    "from datetime import datetime, timedelta"
   ]
  },
  {
   "cell_type": "code",
   "execution_count": null,
   "metadata": {},
   "outputs": [],
   "source": [
    "# 변경된 날짜의 범위 만들기\n",
    "today = datetime.today().strftime('%Y%m%d')\n",
    "yesterday = (datetime.today() - timedelta(days=1)).strftime('%Y%m%d')"
   ]
  },
  {
   "cell_type": "code",
   "execution_count": null,
   "metadata": {},
   "outputs": [],
   "source": [
    "# 정보가 변경된 상장사들 가져 오기\n",
    "df_listed = \n",
    "df_listed[(df_listed['modify_date']>=yesterday) & (df_listed['modify_date']<=today)]"
   ]
  },
  {
   "cell_type": "code",
   "execution_count": null,
   "metadata": {},
   "outputs": [],
   "source": [
    "df_to_be_updated = df_listed[(df_listed['modify_date']>=yesterday) &  \n",
    "                             (df_listed['modify_date']<=today)]"
   ]
  },
  {
   "cell_type": "code",
   "execution_count": null,
   "metadata": {},
   "outputs": [],
   "source": []
  },
  {
   "cell_type": "markdown",
   "metadata": {},
   "source": [
    "<div class=\"alert alert-info\">\n",
    "**참고:** _나중에 도움이 될 수도 있는 부분이에요^^_\n",
    "</div>"
   ]
  },
  {
   "cell_type": "markdown",
   "metadata": {},
   "source": [
    "#### 변경된 기업 정보 가져오기 - 저장한 함수를 이용해서 기업 상세 정보 조회하기"
   ]
  },
  {
   "cell_type": "code",
   "execution_count": null,
   "metadata": {},
   "outputs": [],
   "source": [
    "# 저장된 사용자 함수 사용하기\n",
    "from my_func import *\n",
    "\n",
    "# 변경된 기업 정보를 차례로 가져와 dict로 만들고 수정일을 넣고 list로 만들기\n",
    "import time\n",
    "updated_details = []\n",
    "for idx, row in df_to_be_updated.iloc[-3:].iterrows():\n",
    "    dict_corp = get_corp_details_2(row['corp_code'])\n",
    "    dict_corp['modify_date'] = row['modify_date']\n",
    "    updated_details.append(dict_corp)\n",
    "    time.sleep(3)\n",
    "updated_details"
   ]
  },
  {
   "cell_type": "code",
   "execution_count": null,
   "metadata": {},
   "outputs": [],
   "source": [
    "# dataframe으로 만들고 불필요한 컬럼 제거\n",
    "df_updated = pd.DataFrame(updated_details)\n",
    "df_updated = df_updated[df_updated.columns[2:]]\n",
    "df_updated"
   ]
  },
  {
   "cell_type": "code",
   "execution_count": null,
   "metadata": {},
   "outputs": [],
   "source": [
    "# pickle로 저장하고 확인하기\n",
    "df_updated.\n",
    "df_updated = pd.read_pickle(                   )\n",
    "df_updated"
   ]
  },
  {
   "cell_type": "code",
   "execution_count": null,
   "metadata": {},
   "outputs": [],
   "source": []
  },
  {
   "cell_type": "markdown",
   "metadata": {},
   "source": [
    "<div class=\"alert alert-info\">\n",
    "**참고:** _나중에 도움이 될 수도 있는 부분이에요^^_\n",
    "</div>"
   ]
  },
  {
   "cell_type": "markdown",
   "metadata": {},
   "source": [
    "#### 참고: 변경된 기업 정보 DB에 반영하기 - 초기 환경 구성하기"
   ]
  },
  {
   "cell_type": "code",
   "execution_count": null,
   "metadata": {},
   "outputs": [],
   "source": [
    "## DB에 구축하기 위한 환경 설정\n",
    "\n",
    "# sqlalchemy로 DB 연결 설정\n",
    "from sqlalchemy import create_engine\n",
    "engine = create_engine('sqlite:///../working/prices.db', echo=False)"
   ]
  },
  {
   "cell_type": "code",
   "execution_count": null,
   "metadata": {},
   "outputs": [],
   "source": [
    "# 비어 있는 목적 table 만들기\n",
    "df_updated[df_updated['corp_code'].isnull()].to_sql('corp_details', engine, if_exists='replace')"
   ]
  },
  {
   "cell_type": "code",
   "execution_count": null,
   "metadata": {},
   "outputs": [],
   "source": []
  },
  {
   "cell_type": "markdown",
   "metadata": {},
   "source": [
    "<div class=\"alert alert-info\">\n",
    "**참고:** _나중에 도움이 될 수도 있는 부분이에요^^_\n",
    "</div>"
   ]
  },
  {
   "cell_type": "markdown",
   "metadata": {},
   "source": [
    "#### 참고: 변경된 기업 정보 DB에 반영하기 - 기존 자료 삭제 후 추가 + SQL 조회"
   ]
  },
  {
   "cell_type": "code",
   "execution_count": null,
   "metadata": {},
   "outputs": [],
   "source": [
    "## 변경 사항을 DB에 반영하기\n",
    "\n",
    "# 변경 정보를 DB 임시 table 테이블에 저장하기\n",
    "df_updated.to_sql('corp_details_temp', engine, if_exists='replace')"
   ]
  },
  {
   "cell_type": "code",
   "execution_count": null,
   "metadata": {},
   "outputs": [],
   "source": [
    "# 변경 정보가 있는 레코드 삭제하기\n",
    "query_txt = '''delete from corp_details\n",
    "               where corp_code in (select corp_code from corp_details_temp)'''\n",
    "result = engine.execute(query_txt)"
   ]
  },
  {
   "cell_type": "code",
   "execution_count": null,
   "metadata": {},
   "outputs": [],
   "source": [
    "# 변경 정보를 목적 table에 입력하기\n",
    "query_txt = '''insert into corp_details\n",
    "               select * from corp_details_temp'''\n",
    "result = engine.execute(query_txt)\n",
    "\n",
    "result.rowcount"
   ]
  },
  {
   "cell_type": "code",
   "execution_count": null,
   "metadata": {},
   "outputs": [],
   "source": [
    "# 조건에 맞춰 조회해 보기\n",
    "pd.read_sql_query(\"select * from corp_details where adres like '%서울%'\", engine)"
   ]
  }
 ],
 "metadata": {
  "kernelspec": {
   "display_name": "Python 3",
   "language": "python",
   "name": "python3"
  },
  "language_info": {
   "codemirror_mode": {
    "name": "ipython",
    "version": 3
   },
   "file_extension": ".py",
   "mimetype": "text/x-python",
   "name": "python",
   "nbconvert_exporter": "python",
   "pygments_lexer": "ipython3",
   "version": "3.9.5"
  }
 },
 "nbformat": 4,
 "nbformat_minor": 4
}
