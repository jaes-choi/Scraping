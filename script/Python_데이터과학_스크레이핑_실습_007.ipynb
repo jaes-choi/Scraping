{
 "cells": [
  {
   "cell_type": "markdown",
   "metadata": {},
   "source": [
    "# Lab 7: OpenAPI로 전체 기업 고유 번호 가져오기"
   ]
  },
  {
   "cell_type": "markdown",
   "metadata": {},
   "source": [
    "## 기업 고유번호 가져오기 - 샘플코드 테스트"
   ]
  },
  {
   "cell_type": "code",
   "execution_count": null,
   "metadata": {},
   "outputs": [],
   "source": [
    "## 샘플 코드 결과를 실행해 PC에 저장하기\n",
    "# requests로 샘플 코드 실행해 보기\n",
    "import requests, json\n",
    "import pandas as pd\n",
    "from zipfile import ZipFile \n",
    "\n",
    "url=\n",
    "\n",
    "response = requests.get(url)\n",
    "response"
   ]
  },
  {
   "cell_type": "code",
   "execution_count": null,
   "metadata": {},
   "outputs": [],
   "source": [
    "# parameter를 dict형식으로 변경하고 requests 실행\n",
    "parameters = {\n",
    "\n",
    "}\n",
    "url = \n",
    "\n",
    "response = requests.get(url, params=parameters)\n",
    "response\n"
   ]
  },
  {
   "cell_type": "markdown",
   "metadata": {},
   "source": [
    "## 기업 고유번호 가져오기 - zip file을 가져와서 PC에 저장하기"
   ]
  },
  {
   "cell_type": "code",
   "execution_count": null,
   "metadata": {},
   "outputs": [],
   "source": [
    "# response를 zip file로 저장하기\n",
    "\n",
    "zip_file_name = '../working/corp_codes.zip'\n"
   ]
  },
  {
   "cell_type": "code",
   "execution_count": null,
   "metadata": {},
   "outputs": [],
   "source": [
    "# 저장된 파일 확인\n",
    "import os\n",
    "os.listdir('../working')"
   ]
  },
  {
   "cell_type": "code",
   "execution_count": 2,
   "metadata": {},
   "outputs": [
    {
     "name": "stdout",
     "output_type": "stream",
     "text": [
      "{'a': 'b'}\n"
     ]
    }
   ],
   "source": [
    "# 참고: python변수를 그 모양 그대로 파일로 저장하기: pickle\n",
    "import pickle\n",
    "\n",
    "with open('../working/variable.pkl', 'wb') as file:\n",
    "    pickle.dump(response, file, pickle.HIGHEST_PROTOCOL)\n",
    "\n",
    "del response\n",
    "\n",
    "with open('../working/variable.pkl', 'rb') as file:\n",
    "    response = pickle.load(file)\n",
    "    print(response)"
   ]
  },
  {
   "cell_type": "markdown",
   "metadata": {},
   "source": [
    "## 기업 고유번호 가져오기 - 저장된 압축 파일을 압축해제하여 내용 확인하기"
   ]
  },
  {
   "cell_type": "code",
   "execution_count": null,
   "metadata": {},
   "outputs": [],
   "source": [
    "## zip file에서 xml file을 데이터프레임으로 변환하기\n",
    "\n",
    "# zipfile로 읽어 오기\n",
    "zf = \n",
    "\n",
    "# zipfile내의 압축된 파일 가져오기\n",
    "len(zf.filelist)"
   ]
  },
  {
   "cell_type": "code",
   "execution_count": null,
   "metadata": {},
   "outputs": [],
   "source": [
    "# 압축된 파일의 원 이름 가져오기\n",
    "zipped_file = zf.filelist[0].filename\n",
    "zipped_file"
   ]
  },
  {
   "cell_type": "code",
   "execution_count": null,
   "metadata": {},
   "outputs": [],
   "source": [
    "# 압축해제하고 파일의 내용 확인해 보기\n",
    "print(zf.open(zipped_file).read().decode()[:500])"
   ]
  },
  {
   "cell_type": "markdown",
   "metadata": {},
   "source": [
    "## 기업 고유번호 가져오기 - xml을 dict로 만든 후 데이터프레임으로 만들기"
   ]
  },
  {
   "cell_type": "code",
   "execution_count": null,
   "metadata": {},
   "outputs": [],
   "source": [
    "# 기업 고유번호 데이터프레임 만들기\n",
    "import xmltodict\n",
    "xmltodict.parse(zf.open(zipped_file).read())"
   ]
  },
  {
   "cell_type": "code",
   "execution_count": null,
   "metadata": {},
   "outputs": [],
   "source": [
    "# 정보 부분만 접근하기\n"
   ]
  },
  {
   "cell_type": "code",
   "execution_count": null,
   "metadata": {},
   "outputs": [],
   "source": [
    "# 데이터프레임으로 변환하기\n",
    "corp_list = pd.DataFrame( )\n",
    "corp_list"
   ]
  },
  {
   "cell_type": "code",
   "execution_count": null,
   "metadata": {},
   "outputs": [],
   "source": [
    "# 상장기업만 추출하기 --> stock_code가 있음\n",
    "listed = "
   ]
  },
  {
   "cell_type": "code",
   "execution_count": null,
   "metadata": {},
   "outputs": [],
   "source": [
    "# 종목코드가 '005930'인 기업 정보 가져오기\n",
    "listed.loc[]"
   ]
  },
  {
   "cell_type": "code",
   "execution_count": null,
   "metadata": {},
   "outputs": [],
   "source": [
    "# 종목명에 '삼성'이 포함된 기업 정보 가져오기\n",
    "listed.loc[]"
   ]
  },
  {
   "cell_type": "code",
   "execution_count": null,
   "metadata": {},
   "outputs": [],
   "source": [
    "# 저장하기\n",
    "listed.to_pickle('../working/listed.pkl')"
   ]
  },
  {
   "cell_type": "markdown",
   "metadata": {},
   "source": [
    "## 기업 고유번호 가져오기 - DB에 저장하고 SQL로 문자열 검색하기"
   ]
  },
  {
   "cell_type": "code",
   "execution_count": null,
   "metadata": {},
   "outputs": [],
   "source": [
    "# DB에 저장하기\n",
    "\n",
    "from sqlalchemy import create_engine\n",
    "engine = create_engine('sqlite:///../working/prices.db', echo=False)"
   ]
  },
  {
   "cell_type": "code",
   "execution_count": null,
   "metadata": {},
   "outputs": [],
   "source": [
    "# listed --> 'listed' 테이블로 저장하기, 'replace'\n"
   ]
  },
  {
   "cell_type": "code",
   "execution_count": null,
   "metadata": {},
   "outputs": [],
   "source": [
    "# 종목명에 '삼성'이 포함된 기업 정보 query해 오기\n",
    "\n",
    "query = '''\n",
    "'''\n",
    "\n",
    "pd.read_sql_query(query, engine)"
   ]
  },
  {
   "cell_type": "markdown",
   "metadata": {},
   "source": [
    "## 참고: ElementTree 이용 - xml 파일을 ET형식으로 변환하고 고유번호 확인"
   ]
  },
  {
   "cell_type": "code",
   "execution_count": null,
   "metadata": {},
   "outputs": [],
   "source": [
    "## ElementTree 형식으로 변환해서 고유번호 등 확인하기\n",
    "import xml.etree.ElementTree as ET\n",
    "\n",
    "# xml tree 만들기\n",
    "tree = ET.fromstring(zf.open(zipped_file).read())\n",
    "\n",
    "# xml tree 내용 확인하기\n",
    "tree.tag"
   ]
  },
  {
   "cell_type": "code",
   "execution_count": null,
   "metadata": {},
   "outputs": [],
   "source": [
    "tree.getchildren()[:5]"
   ]
  },
  {
   "cell_type": "code",
   "execution_count": null,
   "metadata": {},
   "outputs": [],
   "source": [
    "list(tree)[:5]"
   ]
  },
  {
   "cell_type": "code",
   "execution_count": null,
   "metadata": {},
   "outputs": [],
   "source": [
    "# tree에서 첫번째 기업 고유번호 등 가져오기\n",
    "\n",
    "tree.find('list')"
   ]
  },
  {
   "cell_type": "code",
   "execution_count": null,
   "metadata": {},
   "outputs": [],
   "source": [
    "for element in tree.find('list'):\n",
    "    print(element.tag, element.text)"
   ]
  },
  {
   "cell_type": "markdown",
   "metadata": {},
   "source": [
    "## 참고: ElementTree 이용 - ET에서 처음 5개 기업 고유번호 가져오기"
   ]
  },
  {
   "cell_type": "code",
   "execution_count": null,
   "metadata": {},
   "outputs": [],
   "source": [
    "# tree에서 처음 5개의 기업 고유번호 등 가져오기\n",
    "\n",
    "tree.findall('list')[:5]"
   ]
  },
  {
   "cell_type": "code",
   "execution_count": null,
   "metadata": {},
   "outputs": [],
   "source": [
    "for corp in tree.findall('list')[:5]:\n",
    "    for element in corp:\n",
    "        print(element.text, end=' ')\n",
    "    print()"
   ]
  },
  {
   "cell_type": "code",
   "execution_count": null,
   "metadata": {},
   "outputs": [],
   "source": [
    "## xml tree에서 기업 고유번호 등 추출해서 dataframe으로 변환하기\n",
    "\n",
    "# tag 이름을 list에 담기\n",
    "cols = []\n",
    "for element in tree.find('list'):\n",
    "    cols.append(element.tag)\n",
    "cols"
   ]
  },
  {
   "cell_type": "code",
   "execution_count": null,
   "metadata": {},
   "outputs": [],
   "source": [
    "# tag 안의 text들을 list에 담기\n",
    "[element.text for element in tree.findall('list')[0]]"
   ]
  },
  {
   "cell_type": "code",
   "execution_count": null,
   "metadata": {},
   "outputs": [],
   "source": [
    "# list comprehension으로 만들어 보기\n",
    "[[element.text for element in corp] for corp in tree.findall('list')][:5]\n",
    "corp_list = [[element.text for element in corp] for corp in tree.findall('list')]"
   ]
  },
  {
   "cell_type": "code",
   "execution_count": null,
   "metadata": {
    "scrolled": true
   },
   "outputs": [],
   "source": [
    "# list를 dataframe으로 변환하기\n",
    "pd.DataFrame(corp_list, columns=cols)\n",
    "df_corp = pd.DataFrame(corp_list, columns=cols)\n",
    "df_corp"
   ]
  },
  {
   "cell_type": "code",
   "execution_count": null,
   "metadata": {},
   "outputs": [],
   "source": [
    "# 종목코드가 '005930'인 기업 정보 가져오기\n",
    "df_corp[]"
   ]
  },
  {
   "cell_type": "code",
   "execution_count": null,
   "metadata": {},
   "outputs": [],
   "source": []
  }
 ],
 "metadata": {
  "kernelspec": {
   "display_name": "Python 3",
   "language": "python",
   "name": "python3"
  },
  "language_info": {
   "codemirror_mode": {
    "name": "ipython",
    "version": 3
   },
   "file_extension": ".py",
   "mimetype": "text/x-python",
   "name": "python",
   "nbconvert_exporter": "python",
   "pygments_lexer": "ipython3",
   "version": "3.8.5"
  }
 },
 "nbformat": 4,
 "nbformat_minor": 4
}
