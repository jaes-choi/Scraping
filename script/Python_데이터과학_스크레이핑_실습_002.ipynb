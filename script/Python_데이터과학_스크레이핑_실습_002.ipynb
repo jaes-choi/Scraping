{
 "cells": [
  {
   "cell_type": "markdown",
   "metadata": {},
   "source": [
    "# Lab 2: HTML 문서에서 정보 추출해 보기"
   ]
  },
  {
   "cell_type": "markdown",
   "metadata": {},
   "source": [
    "## html의 <table> 태그의 테이블 내용 가져오기 - pd.read_html + encoding"
   ]
  },
  {
   "cell_type": "code",
   "execution_count": null,
   "metadata": {},
   "outputs": [],
   "source": [
    "## sample_old_k_pop.html 파일 내용 확인하기\n"
   ]
  },
  {
   "cell_type": "code",
   "execution_count": null,
   "metadata": {
    "scrolled": true
   },
   "outputs": [],
   "source": [
    "## pandas read_html() 이용하기\n",
    "# pandas web의 테이블을 가져오는 가장 쉽고 좋은 방법\n",
    "\n",
    "import pandas as pd\n",
    "\n",
    "# 한글이 깨져서 보임\n"
   ]
  },
  {
   "cell_type": "code",
   "execution_count": null,
   "metadata": {},
   "outputs": [],
   "source": [
    "# <meta charset=\"UTF-8\">가 들어있는 파일은 한글이 제대로 보임\n"
   ]
  },
  {
   "cell_type": "code",
   "execution_count": null,
   "metadata": {},
   "outputs": [],
   "source": [
    "# 한글이 깨지는 경우 encoding을 잘 맞춰주면 제대로 보임\n"
   ]
  },
  {
   "cell_type": "markdown",
   "metadata": {},
   "source": [
    "## html의 <table> 태그의 테이블 내용 가져오기 - pd.read_html + encoding"
   ]
  },
  {
   "cell_type": "code",
   "execution_count": null,
   "metadata": {},
   "outputs": [],
   "source": [
    "# read_html()의 결과는 list이기 때문에 index를 이용해서 원한는 테이블을 선택\n"
   ]
  },
  {
   "cell_type": "code",
   "execution_count": null,
   "metadata": {},
   "outputs": [],
   "source": [
    "# list의 첫번째 항목\n"
   ]
  },
  {
   "cell_type": "code",
   "execution_count": null,
   "metadata": {},
   "outputs": [],
   "source": [
    "## html table을 'kpop' 변수에 대입하기                                       \n",
    "                                                                            # 가져온 테이블 내용을\n",
    "                                                                            # dataframe 변수에 대입함"
   ]
  },
  {
   "cell_type": "markdown",
   "metadata": {},
   "source": [
    "## html 태그를 분석해서 모든 노래 제목들 가져오기 - Beautifulsoup"
   ]
  },
  {
   "cell_type": "code",
   "execution_count": null,
   "metadata": {},
   "outputs": [],
   "source": [
    "## sample_kids_song.html 파일 내용 확인하기\n",
    "\n",
    "                      # 결과를 읽어 옴 --> 그 결과는 보기가 쉽지 않음\n",
    "    "
   ]
  },
  {
   "cell_type": "code",
   "execution_count": null,
   "metadata": {
    "scrolled": false
   },
   "outputs": [],
   "source": [
    "# pd.read_html로 읽어 보기\n",
    "# html안에 테이블이 없어 error발생 : ValueError: No tables found\n"
   ]
  },
  {
   "cell_type": "code",
   "execution_count": null,
   "metadata": {},
   "outputs": [],
   "source": [
    "## bs4: BeautifulSoup\n",
    "# 설치하기\n",
    "    # 관리자 권한 cmd 창에서\n",
    "    # pip install bs4\n",
    "# 참고 자료: https://www.crummy.com/software/BeautifulSoup/bs4/doc/\n",
    "\n",
    "\n",
    "## Beautifulsoup으로 파일 읽기\n",
    "from bs4 import BeautifulSoup\n",
    "\n",
    "\n",
    "# Beautifulsoup: HTML 태그들을 Python 객체 형태로 변환\n"
   ]
  },
  {
   "cell_type": "markdown",
   "metadata": {},
   "source": [
    "## html 태그를 분석해서 모든 노래 제목들 가져오기"
   ]
  },
  {
   "cell_type": "code",
   "execution_count": null,
   "metadata": {},
   "outputs": [],
   "source": [
    "## BeautifulSoup 주요 속성 메소드\n",
    "# name, contents, string, text (== get_text())\n",
    "# children, descendants, parent\n",
    "# next_sibling, previous_sibling, next_siblings, previous_siblings, next_element, previous_element\n",
    "\n",
    "## <a> tag (anchor) 모두 가져오기\n"
   ]
  },
  {
   "cell_type": "code",
   "execution_count": null,
   "metadata": {},
   "outputs": [],
   "source": [
    "## 한글 동요 제목들 가져오기\n",
    "soup.find_all('a', {'class':'kor'})"
   ]
  },
  {
   "cell_type": "code",
   "execution_count": null,
   "metadata": {},
   "outputs": [],
   "source": [
    "# for 이용, 제목만 인쇄하기\n"
   ]
  },
  {
   "cell_type": "code",
   "execution_count": null,
   "metadata": {},
   "outputs": [],
   "source": [
    "# 참고: 여러개의 tag 종류에서 특정 class 찾기 \n",
    "# 아무런 표시하지 않기\n"
   ]
  },
  {
   "cell_type": "code",
   "execution_count": null,
   "metadata": {},
   "outputs": [],
   "source": [
    "# class_=\n"
   ]
  },
  {
   "cell_type": "code",
   "execution_count": null,
   "metadata": {},
   "outputs": [],
   "source": [
    "# {'class':...}\n"
   ]
  },
  {
   "cell_type": "markdown",
   "metadata": {},
   "source": [
    "## html 태그를 분석해서 모든 노래 제목들 가져오기"
   ]
  },
  {
   "cell_type": "code",
   "execution_count": null,
   "metadata": {},
   "outputs": [],
   "source": [
    "## 간단한 element 접근방법\n",
    "# 참고: .(dot) + tag 이름 형식으로 찾기\n",
    "\n",
    "soup.title            # <title> tag를 갖는 첫번째 element; title 대신 a, div, pre, ul, li 등이 올 수 있음"
   ]
  },
  {
   "cell_type": "code",
   "execution_count": null,
   "metadata": {},
   "outputs": [],
   "source": [
    "soup.title.contents   # soup.title의 contents들"
   ]
  },
  {
   "cell_type": "code",
   "execution_count": null,
   "metadata": {},
   "outputs": [],
   "source": [
    "soup.title.string     # string: 값 (==text, == get_text()))"
   ]
  },
  {
   "cell_type": "code",
   "execution_count": null,
   "metadata": {},
   "outputs": [],
   "source": [
    "soup.title.name       # name: 찾아진 element의 tag"
   ]
  },
  {
   "cell_type": "code",
   "execution_count": null,
   "metadata": {},
   "outputs": [],
   "source": [
    "# 참고: children: 찾아진 element의 내부의 nested-elements\n",
    "soup.ul.children"
   ]
  },
  {
   "cell_type": "code",
   "execution_count": null,
   "metadata": {},
   "outputs": [],
   "source": [
    "for child in soup.ul.children:\n",
    "    print(child)"
   ]
  },
  {
   "cell_type": "markdown",
   "metadata": {},
   "source": [
    "## html 태그를 분석해서 모든 노래 제목들 가져오기 - element의 속성값 접근"
   ]
  },
  {
   "cell_type": "code",
   "execution_count": null,
   "metadata": {},
   "outputs": [],
   "source": [
    "## 찾은 element의 속성값을 가져오는 방법들\n",
    "# soup.a.get('href'), soup.a.get_attribute_list('href'), ['href']\n",
    "\n",
    "soup.a                # soup.a 안에는 class, href, name 속성이 있음"
   ]
  },
  {
   "cell_type": "code",
   "execution_count": null,
   "metadata": {},
   "outputs": [],
   "source": [
    "# dict의 key를 불러오는 것과 유사하게 정의: ['href']"
   ]
  },
  {
   "cell_type": "code",
   "execution_count": null,
   "metadata": {},
   "outputs": [],
   "source": [
    "# 참고: 속성값을 가져오는 다른 방법들\n",
    "# soup.a object에서 href 속성값을 가져오는 method 이용: get('href')"
   ]
  },
  {
   "cell_type": "code",
   "execution_count": null,
   "metadata": {},
   "outputs": [],
   "source": [
    "# soup.a object에서 href 속성값을 list로 가져오는 method 이용: get_attribute_list('href')"
   ]
  },
  {
   "cell_type": "code",
   "execution_count": null,
   "metadata": {},
   "outputs": [],
   "source": [
    "# 참고: class의 값을 가져온다면 \n",
    "soup.a['class']       # class는 여러가지 값을 가질 수 있는 list로 저장되어 있음"
   ]
  },
  {
   "cell_type": "code",
   "execution_count": null,
   "metadata": {},
   "outputs": [],
   "source": [
    "soup.a.get('class')"
   ]
  },
  {
   "cell_type": "code",
   "execution_count": null,
   "metadata": {},
   "outputs": [],
   "source": [
    "soup.a.get_attribute_list('class')"
   ]
  },
  {
   "cell_type": "markdown",
   "metadata": {},
   "source": [
    "## html 태그를 분석해서 모든 노래 제목들 가져오기 - find와 find_all"
   ]
  },
  {
   "cell_type": "code",
   "execution_count": null,
   "metadata": {},
   "outputs": [],
   "source": [
    "## tag를 이용한 element 접근방법\n",
    "# find, find_all\n",
    "    # soup.find('a')\n",
    "    # soup.find_all('a', attr={'name':'jaes'})\n",
    "    # soup.find_all(href=re.compile('.co.kr'))\n",
    "\n",
    "# tag로 찾기\n",
    "\n",
    "# soup.title"
   ]
  },
  {
   "cell_type": "code",
   "execution_count": null,
   "metadata": {},
   "outputs": [],
   "source": [
    "# find_all(): 결과를 list형태로 반환"
   ]
  },
  {
   "cell_type": "code",
   "execution_count": null,
   "metadata": {},
   "outputs": [],
   "source": [
    "# <a> tag 첫번째 element 찾기"
   ]
  },
  {
   "cell_type": "code",
   "execution_count": null,
   "metadata": {},
   "outputs": [],
   "source": [
    "# <a> tag 모든 element 찾기"
   ]
  },
  {
   "cell_type": "code",
   "execution_count": null,
   "metadata": {},
   "outputs": [],
   "source": [
    "# <a> tag 처음 2개 element 찾기: limit"
   ]
  },
  {
   "cell_type": "code",
   "execution_count": null,
   "metadata": {},
   "outputs": [],
   "source": [
    "# attribute로 찾기 - class\n",
    "\n",
    "# <a> tag이면서 class가 'eng'인 element를 모두 찾기\n"
   ]
  },
  {
   "cell_type": "code",
   "execution_count": null,
   "metadata": {},
   "outputs": [],
   "source": [
    "# <a> tag이면서 class가 'eng'인 element를 모두 찾기\n"
   ]
  },
  {
   "cell_type": "code",
   "execution_count": null,
   "metadata": {},
   "outputs": [],
   "source": [
    "# <a> tag이면서 class가 'eng'인 element를 모두 찾기\n"
   ]
  },
  {
   "cell_type": "markdown",
   "metadata": {},
   "source": [
    "## html 태그를 분석해서 모든 노래 제목들 가져오기 - 속성값으로 상세하게 찾기"
   ]
  },
  {
   "cell_type": "code",
   "execution_count": null,
   "metadata": {},
   "outputs": [],
   "source": [
    "# attribute로 찾기 - id\n",
    "# id가 'kids2'인 element 찾기\n"
   ]
  },
  {
   "cell_type": "code",
   "execution_count": null,
   "metadata": {},
   "outputs": [],
   "source": [
    "# id가 있는 것들만 찾기: id=True\n"
   ]
  },
  {
   "cell_type": "code",
   "execution_count": null,
   "metadata": {},
   "outputs": [],
   "source": [
    "# attribute로 찾기 - 일반적인 형식: attrs={'...': '...'}\n"
   ]
  },
  {
   "cell_type": "code",
   "execution_count": null,
   "metadata": {},
   "outputs": [],
   "source": [
    "# string으로 찾기: string='솜사탕'\n"
   ]
  },
  {
   "cell_type": "code",
   "execution_count": null,
   "metadata": {},
   "outputs": [],
   "source": [
    "# string으로 찾기: string=['솜사탕', '세마리']\n"
   ]
  },
  {
   "cell_type": "code",
   "execution_count": null,
   "metadata": {},
   "outputs": [],
   "source": [
    "# 참고: regex와 결합해서 찾기\n",
    "# 글자에 '마리'가 포함된 것 찾기: string=re.compile('마리')\n"
   ]
  },
  {
   "cell_type": "code",
   "execution_count": null,
   "metadata": {},
   "outputs": [],
   "source": [
    "# href에 'r'이 포함된 것들 찾기: href=re.compile('r')\n",
    "\n"
   ]
  },
  {
   "cell_type": "markdown",
   "metadata": {},
   "source": [
    "## pandas로 만든 80년대 음악 dataframe에 link 컬럼 추가하기"
   ]
  },
  {
   "cell_type": "code",
   "execution_count": null,
   "metadata": {},
   "outputs": [],
   "source": [
    "# pd.read_html로 데이터프레임으로 읽어 오기 --> link정보는 못가져옴\n",
    "kpop"
   ]
  },
  {
   "cell_type": "code",
   "execution_count": null,
   "metadata": {},
   "outputs": [],
   "source": []
  },
  {
   "cell_type": "code",
   "execution_count": null,
   "metadata": {},
   "outputs": [],
   "source": [
    "# BeautifulSoup으로 읽어 오기\n",
    "soup_k_pop = "
   ]
  },
  {
   "cell_type": "code",
   "execution_count": null,
   "metadata": {},
   "outputs": [],
   "source": [
    "# <a> tag, class가 k-pop인 element 모두 가져오기\n"
   ]
  },
  {
   "cell_type": "code",
   "execution_count": null,
   "metadata": {},
   "outputs": [],
   "source": [
    "# anchor element의 link 모두 인쇄오기\n"
   ]
  },
  {
   "cell_type": "code",
   "execution_count": null,
   "metadata": {},
   "outputs": [],
   "source": [
    "# link들을 list로 만들어 'kpop' 데이터프레임의 컬럼으로 만들기\n",
    "links = []\n",
    "\n",
    "\n"
   ]
  },
  {
   "cell_type": "markdown",
   "metadata": {},
   "source": [
    "## 참고: css selector를 이용해 element에 접근하기 - select와 select_one"
   ]
  },
  {
   "cell_type": "code",
   "execution_count": null,
   "metadata": {},
   "outputs": [],
   "source": [
    "## element 접근방법\n",
    "# select, select_one\n",
    "    # soup.select('a'), soup.select_one('a') (== soup.a)\n",
    "# <title>\n"
   ]
  },
  {
   "cell_type": "code",
   "execution_count": null,
   "metadata": {},
   "outputs": [],
   "source": [
    "# <head> 바로 아래의 <title>\n"
   ]
  },
  {
   "cell_type": "code",
   "execution_count": null,
   "metadata": {},
   "outputs": [],
   "source": [
    "# 바로 아래 관계는 아니지만 <body> 아래 <a>\n"
   ]
  },
  {
   "cell_type": "code",
   "execution_count": null,
   "metadata": {},
   "outputs": [],
   "source": [
    "# <body> 아래 <div> 아래 <a>\n"
   ]
  },
  {
   "cell_type": "code",
   "execution_count": null,
   "metadata": {},
   "outputs": [],
   "source": [
    "# <ul> 밑에 <a>가 여러개 있다면 2번째\n"
   ]
  },
  {
   "cell_type": "code",
   "execution_count": null,
   "metadata": {},
   "outputs": [],
   "source": [
    "# 참고: select, select_one의 다른 예들\n",
    "soup.select('[class~=kor]')"
   ]
  },
  {
   "cell_type": "code",
   "execution_count": null,
   "metadata": {},
   "outputs": [],
   "source": [
    "soup.select('#kids1')"
   ]
  },
  {
   "cell_type": "code",
   "execution_count": null,
   "metadata": {},
   "outputs": [],
   "source": [
    "soup.select('a#kids3')"
   ]
  },
  {
   "cell_type": "code",
   "execution_count": null,
   "metadata": {},
   "outputs": [],
   "source": [
    "soup.select('a[href]')"
   ]
  },
  {
   "cell_type": "code",
   "execution_count": null,
   "metadata": {},
   "outputs": [],
   "source": [
    "soup.select('a[href=\"http://example.com/candy\"]')"
   ]
  },
  {
   "cell_type": "code",
   "execution_count": null,
   "metadata": {},
   "outputs": [],
   "source": [
    "soup.select('a[href*=\"r\"]')"
   ]
  },
  {
   "cell_type": "markdown",
   "metadata": {},
   "source": [
    "## 참고: css selector를 이용해 element에 접근하기"
   ]
  },
  {
   "cell_type": "code",
   "execution_count": null,
   "metadata": {},
   "outputs": [],
   "source": [
    "## 참고: select, select_one 다른 예제\n",
    "soup_k_pop.select('body table a')"
   ]
  },
  {
   "cell_type": "code",
   "execution_count": null,
   "metadata": {},
   "outputs": [],
   "source": [
    "soup_k_pop.select_one('tr > td')"
   ]
  },
  {
   "cell_type": "code",
   "execution_count": null,
   "metadata": {},
   "outputs": [],
   "source": [
    "soup_k_pop.select('tr td')"
   ]
  },
  {
   "cell_type": "code",
   "execution_count": null,
   "metadata": {},
   "outputs": [],
   "source": [
    "soup_k_pop.select('tr td:nth-of-type(2)')"
   ]
  },
  {
   "cell_type": "code",
   "execution_count": null,
   "metadata": {},
   "outputs": [],
   "source": [
    "soup_k_pop.select('td > #kpop1')"
   ]
  },
  {
   "cell_type": "code",
   "execution_count": null,
   "metadata": {},
   "outputs": [],
   "source": [
    "soup_k_pop.select('td > a')"
   ]
  },
  {
   "cell_type": "code",
   "execution_count": null,
   "metadata": {},
   "outputs": [],
   "source": [
    "soup_k_pop.select('.title')"
   ]
  },
  {
   "cell_type": "markdown",
   "metadata": {},
   "source": [
    "## 참고: 동요 두번째 곡의 가사에서 '곰'이 들어간 단어 갯수 구하기"
   ]
  },
  {
   "cell_type": "code",
   "execution_count": null,
   "metadata": {},
   "outputs": [],
   "source": [
    "## 두번째 동요 가사\n"
   ]
  },
  {
   "cell_type": "code",
   "execution_count": null,
   "metadata": {},
   "outputs": [],
   "source": [
    "## 단어 토큰화(word tokenizing)\n",
    "# string split()\n",
    "\n",
    "song = "
   ]
  },
  {
   "cell_type": "code",
   "execution_count": null,
   "metadata": {},
   "outputs": [],
   "source": [
    "# 빈 공간으로 나누기\n"
   ]
  },
  {
   "cell_type": "code",
   "execution_count": null,
   "metadata": {},
   "outputs": [],
   "source": [
    "# list comprehesion으로 만든다면\n",
    "\n",
    "song_bear_words = \n"
   ]
  },
  {
   "cell_type": "code",
   "execution_count": null,
   "metadata": {},
   "outputs": [],
   "source": [
    "# regex를 이용해서 만들어 보기\n",
    "# re.findall(): r'(\\w*[곰]\\w*)\n"
   ]
  },
  {
   "cell_type": "markdown",
   "metadata": {},
   "source": [
    "## 참고: 동요 두번째 곡의 가사에서 '곰'이 들어간 단어 갯수 구하기"
   ]
  },
  {
   "cell_type": "code",
   "execution_count": null,
   "metadata": {},
   "outputs": [],
   "source": [
    "## 조사 제거\n",
    "# for if \n",
    "# list comprehension\n",
    "\n"
   ]
  },
  {
   "cell_type": "code",
   "execution_count": null,
   "metadata": {},
   "outputs": [],
   "source": [
    "# '곰세마리'에서  list comprehension으로 만들기\n"
   ]
  },
  {
   "cell_type": "code",
   "execution_count": null,
   "metadata": {},
   "outputs": [],
   "source": [
    "# re.findall()\n",
    "\n",
    "import re\n",
    "re.findall(r'\\b(\\w*[곰]\\w*?)[가은]?\\b', song)"
   ]
  },
  {
   "cell_type": "code",
   "execution_count": null,
   "metadata": {},
   "outputs": [],
   "source": [
    "re.findall(r'(\\w*[곰]\\w*?)[가은 ]', song)"
   ]
  },
  {
   "cell_type": "markdown",
   "metadata": {},
   "source": [
    "## 참고: 동요 두번째 곡의 가사에서 '곰'이 들어간 단어 갯수 구하기"
   ]
  },
  {
   "cell_type": "code",
   "execution_count": null,
   "metadata": {},
   "outputs": [],
   "source": [
    "## 단어 갯수 dict 생성\n",
    "# for if\n",
    "# dict\n",
    "\n",
    "bear_word = [w[:-1] if w[-1] in '은가' else w for w in song.split() if '곰' in w]\n",
    "bear_word_count = {}\n",
    "for word in bear_word:\n",
    "    if word in bear_word_count:\n",
    "        bear_word_count[word] += 1\n",
    "    else:\n",
    "        bear_word_count[word] = 1\n",
    "bear_word_count"
   ]
  },
  {
   "cell_type": "code",
   "execution_count": null,
   "metadata": {},
   "outputs": [],
   "source": [
    "# re.findall()\n",
    "# Counter()\n",
    "\n",
    "from collections import Counter\n",
    "Counter(re.findall(r'\\b(\\w*[곰]\\w*?)[가은]?\\b', song))"
   ]
  },
  {
   "cell_type": "code",
   "execution_count": null,
   "metadata": {},
   "outputs": [],
   "source": [
    "from collections import Counter\n",
    "Counter(re.findall(r'(\\w*[곰]\\w*?)[은가 ]', song))"
   ]
  },
  {
   "cell_type": "code",
   "execution_count": null,
   "metadata": {},
   "outputs": [],
   "source": []
  }
 ],
 "metadata": {
  "kernelspec": {
   "display_name": "Python 3",
   "language": "python",
   "name": "python3"
  },
  "language_info": {
   "codemirror_mode": {
    "name": "ipython",
    "version": 3
   },
   "file_extension": ".py",
   "mimetype": "text/x-python",
   "name": "python",
   "nbconvert_exporter": "python",
   "pygments_lexer": "ipython3",
   "version": "3.8.5"
  }
 },
 "nbformat": 4,
 "nbformat_minor": 4
}
