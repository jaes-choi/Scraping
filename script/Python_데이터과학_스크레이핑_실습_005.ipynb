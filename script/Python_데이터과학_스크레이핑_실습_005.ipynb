{
 "cells": [
  {
   "cell_type": "markdown",
   "metadata": {},
   "source": [
    "# Lab 5: '좋아요'를 포함하여 기본 정보들 수집하기"
   ]
  },
  {
   "cell_type": "markdown",
   "metadata": {},
   "source": [
    "## 뉴스 페이지 접속하기 - 문제 발생"
   ]
  },
  {
   "cell_type": "code",
   "execution_count": null,
   "metadata": {},
   "outputs": [],
   "source": [
    "import pandas as pd\n",
    "import requests\n",
    "from bs4 import BeautifulSoup\n",
    "\n",
    "## 저장된 기사 link들 가져오기\n",
    "df_urls = \n",
    "url = \n",
    "url"
   ]
  },
  {
   "cell_type": "code",
   "execution_count": null,
   "metadata": {},
   "outputs": [],
   "source": [
    "## 뉴스 기사 페이지를 BeautifulSoup으로 만들기\n",
    "\n",
    "response_news = \n",
    "soup_news = \n",
    "\n",
    "soup_news  # 접속 불가 메시지\n",
    "\n",
    "## 사람이 web browser를 사용하는 것과 똑같이 만들 수는 없나?"
   ]
  },
  {
   "cell_type": "markdown",
   "metadata": {},
   "source": [
    "## '좋아요' 정보 가져올 때 문제 해결하기"
   ]
  },
  {
   "cell_type": "code",
   "execution_count": null,
   "metadata": {},
   "outputs": [],
   "source": [
    "## selenium\n",
    "# 설치하기\n",
    "    # 관리자 권한 cmd 창에서\n",
    "    # pip install selenium\n",
    "# 참고 자료: https://selenium-python.readthedocs.io/\n",
    "\n",
    "## dataframe으로 만들어 저장하기\n",
    "\n",
    "# webdriver 활용하기\n",
    "    # 설치하기\n",
    "\n",
    "from selenium import webdriver\n",
    "driver = webdriver.Chrome()\n",
    "driver.maximize_window()\n",
    "driver.get(url)"
   ]
  },
  {
   "cell_type": "code",
   "execution_count": null,
   "metadata": {},
   "outputs": [],
   "source": [
    "# browser닫고 끝내기\n",
    "driver.close()\n",
    "dirver.quit()"
   ]
  },
  {
   "cell_type": "code",
   "execution_count": null,
   "metadata": {},
   "outputs": [],
   "source": [
    "# 참고: 화면에 띄우지 않고 사용하기\n",
    "options = webdriver.ChromeOptions()\n",
    "options.add_argument('headless')\n",
    "driver = webdriver.Chrome(options=options)"
   ]
  },
  {
   "cell_type": "code",
   "execution_count": null,
   "metadata": {},
   "outputs": [],
   "source": [
    "driver.close()\n",
    "dirver.quit()"
   ]
  },
  {
   "cell_type": "markdown",
   "metadata": {},
   "source": [
    "## selenium IDE에서 생성한 코드 실행해 보기"
   ]
  },
  {
   "cell_type": "code",
   "execution_count": null,
   "metadata": {},
   "outputs": [],
   "source": [
    "# selenium IDE에서 생생한 코드\n"
   ]
  },
  {
   "cell_type": "markdown",
   "metadata": {},
   "source": [
    "## selenium IDE에서 생성한 코드 변형해 보기 - 좋아요 정보 추출"
   ]
  },
  {
   "cell_type": "code",
   "execution_count": null,
   "metadata": {
    "scrolled": true
   },
   "outputs": [],
   "source": [
    "import time\n",
    "from selenium import webdriver\n",
    "driver = webdriver.Chrome()\n",
    "vars = {}\n",
    "driver.get(url)\n",
    "time.sleep(1)\n",
    "\n",
    "# find_element(By.CSS_SELECTOR) (= find_element_by_css_selector)\n",
    "# 복수개의 결과를 가져오는 method --> find_elements_by_css_selector\n",
    "\n",
    "for element in \n",
    "    print(element.text)"
   ]
  },
  {
   "cell_type": "markdown",
   "metadata": {},
   "source": [
    "## selenium IDE에서 생성한 코드 변형해 보기 - 제목, 신문사, 기사 정보 추출"
   ]
  },
  {
   "cell_type": "code",
   "execution_count": null,
   "metadata": {},
   "outputs": [],
   "source": [
    "## 현재의 driver에서 추가정보 추출하기\n",
    "\n",
    "# 제목 추출하기\n",
    "\n"
   ]
  },
  {
   "cell_type": "code",
   "execution_count": null,
   "metadata": {},
   "outputs": [],
   "source": [
    "# 신문사 정보 추출하기\n",
    "\n"
   ]
  },
  {
   "cell_type": "code",
   "execution_count": null,
   "metadata": {},
   "outputs": [],
   "source": [
    "# 기사 입력 시간 추출하기\n",
    "\n"
   ]
  },
  {
   "cell_type": "code",
   "execution_count": null,
   "metadata": {},
   "outputs": [],
   "source": [
    "# 뉴스 메인으로 이동해 보기\n",
    "\n"
   ]
  },
  {
   "cell_type": "code",
   "execution_count": null,
   "metadata": {},
   "outputs": [],
   "source": [
    "# 종료하기\n",
    "driver.close()\n",
    "driver.quit()"
   ]
  },
  {
   "cell_type": "markdown",
   "metadata": {},
   "source": [
    "## url link list에서 뉴스 페이지들의 필요 정보 추출해서 데이터프레임 만들기"
   ]
  },
  {
   "cell_type": "code",
   "execution_count": null,
   "metadata": {
    "scrolled": false
   },
   "outputs": [],
   "source": [
    "likes = []\n",
    "code = '005930'\n",
    "driver = webdriver.Chrome()\n",
    "for idx, row in df_urls.iloc[:3].iterrows():\n",
    "    url, aid = \n",
    "    print(url, aid)\n",
    "    # 페이지 불러오기\n",
    "    news_info = [aid, code]\n",
    "    driver.get(url)\n",
    "    time.sleep(2)\n",
    "    # 좋아요 정보 가져오기\n",
    "\n",
    "    ## 제목 추출하기\n",
    "\n",
    "    ## 신문사 정보 추출하기\n",
    "\n",
    "    ## 기사 입력 시간 추출하기\n",
    "\n",
    "    news_info.append(p_time)\n",
    "    likes.append(news_info)\n",
    "# 데이터프레임으로 만들기\n",
    "news_likes = pd.DataFrame(likes, columns=['aid','code','like','warm','sad','angry','wand','title','media','time'])\n",
    "news_likes"
   ]
  },
  {
   "cell_type": "markdown",
   "metadata": {},
   "source": [
    "## 참고: '좋아요' 수집결과 DB에 저장하기"
   ]
  },
  {
   "cell_type": "code",
   "execution_count": null,
   "metadata": {},
   "outputs": [],
   "source": [
    "## 저장하기\n",
    "\n",
    "# pickl로 저장\n",
    "\n",
    "news_likes.to_pickle('../working/news_likes.pkl')"
   ]
  },
  {
   "cell_type": "code",
   "execution_count": null,
   "metadata": {},
   "outputs": [],
   "source": [
    "# DB에 저장하고 query 적용해 보기\n",
    "\n",
    "from sqlalchemy import create_engine\n",
    "engine = create_engine('sqlite:///../working/prices.db', echo=False)\n",
    "\n",
    "news_likes.to_sql('news_likes', con=engine, if_exists='append',index=False)"
   ]
  },
  {
   "cell_type": "code",
   "execution_count": null,
   "metadata": {},
   "outputs": [],
   "source": [
    "query_txt = '''select time, sum(like)+sum(warm) as good, sum(sad)+sum(angry) as bad\n",
    "                     from news_likes\n",
    "                     where code='005930'\n",
    "                     group by time'''\n",
    "pd.read_sql_query(query_txt, engine) "
   ]
  },
  {
   "cell_type": "markdown",
   "metadata": {},
   "source": [
    "## 참고: selenium의 find_element_by_xpath로 다른 항목들 찾기"
   ]
  },
  {
   "cell_type": "code",
   "execution_count": null,
   "metadata": {},
   "outputs": [],
   "source": [
    "## 제목\n",
    "\n",
    "driver.find_element_by_xpath().get_attribute('innerHTML')"
   ]
  },
  {
   "cell_type": "code",
   "execution_count": null,
   "metadata": {},
   "outputs": [],
   "source": [
    "## 신문사 정보\n",
    "\n",
    "driver.find_element_by_xpath().get_attribute('title')"
   ]
  },
  {
   "cell_type": "code",
   "execution_count": null,
   "metadata": {},
   "outputs": [],
   "source": [
    "## 작성 시간\n",
    "\n",
    "(driver\n",
    "     .find_element_by_xpath()\n",
    "     .get_attribute('innerHTML'))"
   ]
  },
  {
   "cell_type": "markdown",
   "metadata": {},
   "source": [
    "## 참고: selenium으로 가져온 페이지를 BeautifulSoup find로 찾는다면"
   ]
  },
  {
   "cell_type": "code",
   "execution_count": null,
   "metadata": {},
   "outputs": [],
   "source": [
    "## BeautifulSoup 적용하고 '좋아요' 정보 가져오기\n",
    "\n",
    "# driver.page_source --> html 내용\n",
    "soup_news = "
   ]
  },
  {
   "cell_type": "code",
   "execution_count": null,
   "metadata": {},
   "outputs": [],
   "source": [
    "# element tag와 attribute를 이용해서 찾기\n",
    "# 'ul', role=\"menu\" --> 'span', class_='_count'\n"
   ]
  },
  {
   "cell_type": "code",
   "execution_count": null,
   "metadata": {},
   "outputs": [],
   "source": [
    "# 각각 항목 인쇄\n",
    "for span in \n",
    "    print(span.text)"
   ]
  },
  {
   "cell_type": "code",
   "execution_count": null,
   "metadata": {},
   "outputs": [],
   "source": []
  }
 ],
 "metadata": {
  "kernelspec": {
   "display_name": "Python 3",
   "language": "python",
   "name": "python3"
  },
  "language_info": {
   "codemirror_mode": {
    "name": "ipython",
    "version": 3
   },
   "file_extension": ".py",
   "mimetype": "text/x-python",
   "name": "python",
   "nbconvert_exporter": "python",
   "pygments_lexer": "ipython3",
   "version": "3.8.5"
  }
 },
 "nbformat": 4,
 "nbformat_minor": 4
}
